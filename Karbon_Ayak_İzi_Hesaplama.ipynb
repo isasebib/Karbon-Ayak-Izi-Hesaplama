{
  "nbformat": 4,
  "nbformat_minor": 0,
  "metadata": {
    "colab": {
      "provenance": []
    },
    "kernelspec": {
      "name": "python3",
      "display_name": "Python 3"
    },
    "language_info": {
      "name": "python"
    }
  },
  "cells": [
    {
      "cell_type": "code",
      "execution_count": 60,
      "metadata": {
        "colab": {
          "base_uri": "https://localhost:8080/",
          "height": 884
        },
        "id": "q9WM5TBcO0i3",
        "outputId": "2c2b83db-1aff-433d-9658-749a5d46181d"
      },
      "outputs": [
        {
          "output_type": "stream",
          "name": "stdout",
          "text": [
            "Aylık dana eti tüketimi (kg): 2\n",
            "Aylık kuzu eti tüketimi (kg): 3\n",
            "Aylık tavuk tüketimi (kg): 4\n",
            "Aylık sebze tüketimi (kg): 2\n",
            "Aylık meyve tüketimi (kg): 1\n",
            "Yılda alınan uçuş sayısı: 4\n",
            "uçuşlarınızın ortalama kaç saat sürüyor? 5\n",
            "Aylık benzin tüketimi(litre): 6\n",
            "Aylık dizel tüketiminiz(litre)8\n",
            "Aylık lpg tüketiminiz(litre)9\n",
            "Aylık su kullanım miktarınız nedir? (litre)5\n",
            "Aylık mercimek tüketiminiz ne kadardır (kg):3\n",
            "Aylık pirinç kullanımınız ne kadardır (kg):2\n",
            "Aylık fıstık ezmesi tüketiminiz ne kadardır (kg):3\n",
            "Aylık peynir tüketiminiz (kg): 4\n",
            "Günde kaç saat televizyon izliyorsunuz? 5\n",
            "Aylık süt tüketiminiz (litre): 2\n",
            "Günlük kahve tüketiminiz (kg): 4\n",
            "Aylık elektrik tüketimi (kW): 2\n",
            "Aylık cips tüketimi(kg): 4\n",
            "Haftalık bulaşık makinesi kullanımı: 5\n",
            "Haftalık çamaşır makinesi kullanımı: 3\n",
            "Yılda kaç kez trene biniyorsunuz? 2\n",
            "[2387.52, 2102.3999999999996, 873.5999999999999, 48.0, 13.200000000000001, 1800.0, 165.6, 259.20000000000005, 162.0, 18.0, 32.400000000000006, 108.0, 103.68, 1147.1999999999998, 160.6, 33.599999999999994, 4165.38, 11.472, 134.39999999999998, 260.0, 76.44, 720.0]\n"
          ]
        },
        {
          "output_type": "display_data",
          "data": {
            "text/plain": [
              "<Figure size 640x480 with 1 Axes>"
            ],
            "image/png": "[encoded data removed]"
          },
          "metadata": {}
        }
      ],
      "source": [
        "import matplotlib.pyplot as plt\n",
        "import numpy as np\n",
        "\n",
        "dana_eti = float(input(\"Aylık dana eti tüketimi (kg): \"))\n",
        "kuzu_eti = float(input(\"Aylık kuzu eti tüketimi (kg): \"))\n",
        "tavuk = float(input(\"Aylık tavuk tüketimi (kg): \"))\n",
        "sebze = float(input(\"Aylık sebze tüketimi (kg): \"))\n",
        "meyve = float(input(\"Aylık meyve tüketimi (kg): \"))\n",
        "ucus = float(input(\"Yılda alınan uçuş sayısı: \"))\n",
        "ucus_suresi = float(input(\"uçuşlarınızın ortalama kaç saat sürüyor? \"))\n",
        "benzin = float(input(\"Aylık benzin tüketimi(litre): \"))\n",
        "dizel = float(input(\"Aylık dizel tüketiminiz(litre)\"))\n",
        "lpg = float(input(\"Aylık lpg tüketiminiz(litre)\"))\n",
        "su = float(input(\"Aylık su kullanım miktarınız nedir? (litre)\"))\n",
        "mercimek = float(input(\"Aylık mercimek tüketiminiz ne kadardır (kg):\"))\n",
        "pirinc = float(input(\"Aylık pirinç kullanımınız ne kadardır (kg):\"))\n",
        "fistik_ezmesi = float(input(\"Aylık fıstık ezmesi tüketiminiz ne kadardır (kg):\"))\n",
        "peynir = float(input(\"Aylık peynir tüketiminiz (kg): \"))\n",
        "tv = float(input(\"Günde kaç saat televizyon izliyorsunuz? \"))\n",
        "sut = float(input(\"Aylık süt tüketiminiz (litre): \"))\n",
        "kahve = float(input(\"Günlük kahve tüketiminiz (kg): \"))\n",
        "elektrik = float(input(\"Aylık elektrik tüketimi (kW): \"))\n",
        "cips = float(input(\"Aylık cips tüketimi(kg): \"))\n",
        "bulasik = float(input(\"Haftalık bulaşık makinesi kullanımı: \"))\n",
        "camasir = float(input(\"Haftalık çamaşır makinesi kullanımı: \"))\n",
        "tren = float(input(\"Yılda kaç kez trene biniyorsunuz? \"))\n",
        "\n",
        "dana_eti_kai = dana_eti*99.48*12\n",
        "kuzu_eti_kai = kuzu_eti*58.4*12\n",
        "tavuk_kai = tavuk*18.2*12\n",
        "sebze_kai = sebze*2*12\n",
        "meyve_kai = meyve*1.1*12\n",
        "ucus_kai= ucus*ucus_suresi*90\n",
        "benzin_kai= benzin*2.3*12\n",
        "dizel_kai = dizel*2.7*12\n",
        "lpg_kai = lpg*1.5*12\n",
        "su_kai = su*0.3*12\n",
        "mercimek_kai = mercimek*0.9*12\n",
        "pirinc_kai = pirinc*4.5*12\n",
        "fistik_ezmesi_kai = fistik_ezmesi*2.88*12\n",
        "peynir_kai = peynir*23.9*12\n",
        "tv_kai= tv*0.088*365\n",
        "sut_kai = sut*1.4*12\n",
        "kahve_kai = kahve*2.853*365\n",
        "elektrik_kai = elektrik*0.478*12\n",
        "cips_kai = cips*2.8*12\n",
        "bulasik_kai = bulasik*52\n",
        "camasir_kai = camasir*0.49*52\n",
        "tren_kai = tren*360\n",
        "\n",
        "sonuclar = [dana_eti_kai,kuzu_eti_kai,tavuk_kai,sebze_kai,meyve_kai,ucus_kai,benzin_kai,dizel_kai,lpg_kai,su_kai,mercimek_kai,pirinc_kai,\n",
        "            fistik_ezmesi_kai,peynir_kai,tv_kai,sut_kai,kahve_kai,elektrik_kai,cips_kai,bulasik_kai,camasir_kai,tren_kai]\n",
        "print(sonuclar)\n",
        "kategoriler = [\"Dana\",\"Kuzu\",\"Tavuk\",\"Sebze\",\"Meyve\", \"Uçuş\", \"Benzin\",\"Dizel\",\n",
        "                   \"LPG\", \"Su\", \"Mercimek\", \"Pirinç\", \"F.Ezmesi\", \"Peynir\",\"Televizyon\",\"Süt\",\"Kahve\",\"Elektrik\",\"Cips\",\"Bulaşık\",\"Çamaşır\",\"Tren\"]\n",
        "\n",
        "plt.bar(kategoriler, sonuclar)\n",
        "plt.xlabel(\"Tüketim Kategorisi\")\n",
        "plt.ylabel(\"Yıllık CO2 Eşdeğeri (gram)\")\n",
        "plt.title(\"Karbon Ayak İzi\")\n",
        "plt.rcParams['font.size'] = 5\n",
        "plt.show()\n",
        "\n",
        "\n",
        "\n",
        "\n",
        "\n",
        "\n",
        "\n",
        "\n"
      ]
    },
    {
      "cell_type": "code",
      "source": [
        "3522\n",
        "3221237527254"
      ],
      "metadata": {
        "colab": {
          "base_uri": "https://localhost:8080/",
          "height": 757
        },
        "id": "uVkQ_vwzLo74",
        "outputId": "ce88ef94-9a7c-4937-8534-61585ff0e88e"
      },
      "execution_count": 25,
      "outputs": [
        {
          "output_type": "error",
          "ename": "ValueError",
          "evalue": "ignored",
          "traceback": [
            "\u001b[0;31m---------------------------------------------------------------------------\u001b[0m",
            "\u001b[0;31mValueError\u001b[0m                                Traceback (most recent call last)",
            "\u001b[0;32m<ipython-input-25-1fba224d6485>\u001b[0m in \u001b[0;36m<cell line: 2>\u001b[0;34m()\u001b[0m\n\u001b[1;32m      1\u001b[0m \u001b[0;36m1\u001b[0m\u001b[0;34m\u001b[0m\u001b[0;34m\u001b[0m\u001b[0m\n\u001b[0;32m----> 2\u001b[0;31m \u001b[0mgrafik_ciz\u001b[0m\u001b[0;34m(\u001b[0m\u001b[0msonuclar\u001b[0m\u001b[0;34m)\u001b[0m\u001b[0;34m\u001b[0m\u001b[0;34m\u001b[0m\u001b[0m\n\u001b[0m",
            "\u001b[0;32m<ipython-input-24-0d3e5268f659>\u001b[0m in \u001b[0;36mgrafik_ciz\u001b[0;34m(sonuclar)\u001b[0m\n\u001b[1;32m     39\u001b[0m                    ]\n\u001b[1;32m     40\u001b[0m \u001b[0;34m\u001b[0m\u001b[0m\n\u001b[0;32m---> 41\u001b[0;31m     \u001b[0mplt\u001b[0m\u001b[0;34m.\u001b[0m\u001b[0mbar\u001b[0m\u001b[0;34m(\u001b[0m\u001b[0mkategoriler\u001b[0m\u001b[0;34m,\u001b[0m \u001b[0msonuclar\u001b[0m\u001b[0;34m)\u001b[0m\u001b[0;34m\u001b[0m\u001b[0;34m\u001b[0m\u001b[0m\n\u001b[0m\u001b[1;32m     42\u001b[0m     \u001b[0mplt\u001b[0m\u001b[0;34m.\u001b[0m\u001b[0mxlabel\u001b[0m\u001b[0;34m(\u001b[0m\u001b[0;34m\"Tüketim Kategorisi\"\u001b[0m\u001b[0;34m)\u001b[0m\u001b[0;34m\u001b[0m\u001b[0;34m\u001b[0m\u001b[0m\n\u001b[1;32m     43\u001b[0m     \u001b[0mplt\u001b[0m\u001b[0;34m.\u001b[0m\u001b[0mylabel\u001b[0m\u001b[0;34m(\u001b[0m\u001b[0;34m\"CO2 Eşdeğeri (gram)\"\u001b[0m\u001b[0;34m)\u001b[0m\u001b[0;34m\u001b[0m\u001b[0;34m\u001b[0m\u001b[0m\n",
            "\u001b[0;32m/usr/local/lib/python3.10/dist-packages/matplotlib/pyplot.py\u001b[0m in \u001b[0;36mbar\u001b[0;34m(x, height, width, bottom, align, data, **kwargs)\u001b[0m\n\u001b[1;32m   2437\u001b[0m         \u001b[0mx\u001b[0m\u001b[0;34m,\u001b[0m \u001b[0mheight\u001b[0m\u001b[0;34m,\u001b[0m \u001b[0mwidth\u001b[0m\u001b[0;34m=\u001b[0m\u001b[0;36m0.8\u001b[0m\u001b[0;34m,\u001b[0m \u001b[0mbottom\u001b[0m\u001b[0;34m=\u001b[0m\u001b[0;32mNone\u001b[0m\u001b[0;34m,\u001b[0m \u001b[0;34m*\u001b[0m\u001b[0;34m,\u001b[0m \u001b[0malign\u001b[0m\u001b[0;34m=\u001b[0m\u001b[0;34m'center'\u001b[0m\u001b[0;34m,\u001b[0m\u001b[0;34m\u001b[0m\u001b[0;34m\u001b[0m\u001b[0m\n\u001b[1;32m   2438\u001b[0m         data=None, **kwargs):\n\u001b[0;32m-> 2439\u001b[0;31m     return gca().bar(\n\u001b[0m\u001b[1;32m   2440\u001b[0m         \u001b[0mx\u001b[0m\u001b[0;34m,\u001b[0m \u001b[0mheight\u001b[0m\u001b[0;34m,\u001b[0m \u001b[0mwidth\u001b[0m\u001b[0;34m=\u001b[0m\u001b[0mwidth\u001b[0m\u001b[0;34m,\u001b[0m \u001b[0mbottom\u001b[0m\u001b[0;34m=\u001b[0m\u001b[0mbottom\u001b[0m\u001b[0;34m,\u001b[0m \u001b[0malign\u001b[0m\u001b[0;34m=\u001b[0m\u001b[0malign\u001b[0m\u001b[0;34m,\u001b[0m\u001b[0;34m\u001b[0m\u001b[0;34m\u001b[0m\u001b[0m\n\u001b[1;32m   2441\u001b[0m         **({\"data\": data} if data is not None else {}), **kwargs)\n",
            "\u001b[0;32m/usr/local/lib/python3.10/dist-packages/matplotlib/__init__.py\u001b[0m in \u001b[0;36minner\u001b[0;34m(ax, data, *args, **kwargs)\u001b[0m\n\u001b[1;32m   1440\u001b[0m     \u001b[0;32mdef\u001b[0m \u001b[0minner\u001b[0m\u001b[0;34m(\u001b[0m\u001b[0max\u001b[0m\u001b[0;34m,\u001b[0m \u001b[0;34m*\u001b[0m\u001b[0margs\u001b[0m\u001b[0;34m,\u001b[0m \u001b[0mdata\u001b[0m\u001b[0;34m=\u001b[0m\u001b[0;32mNone\u001b[0m\u001b[0;34m,\u001b[0m \u001b[0;34m**\u001b[0m\u001b[0mkwargs\u001b[0m\u001b[0;34m)\u001b[0m\u001b[0;34m:\u001b[0m\u001b[0;34m\u001b[0m\u001b[0;34m\u001b[0m\u001b[0m\n\u001b[1;32m   1441\u001b[0m         \u001b[0;32mif\u001b[0m \u001b[0mdata\u001b[0m \u001b[0;32mis\u001b[0m \u001b[0;32mNone\u001b[0m\u001b[0;34m:\u001b[0m\u001b[0;34m\u001b[0m\u001b[0;34m\u001b[0m\u001b[0m\n\u001b[0;32m-> 1442\u001b[0;31m             \u001b[0;32mreturn\u001b[0m \u001b[0mfunc\u001b[0m\u001b[0;34m(\u001b[0m\u001b[0max\u001b[0m\u001b[0;34m,\u001b[0m \u001b[0;34m*\u001b[0m\u001b[0mmap\u001b[0m\u001b[0;34m(\u001b[0m\u001b[0msanitize_sequence\u001b[0m\u001b[0;34m,\u001b[0m \u001b[0margs\u001b[0m\u001b[0;34m)\u001b[0m\u001b[0;34m,\u001b[0m \u001b[0;34m**\u001b[0m\u001b[0mkwargs\u001b[0m\u001b[0;34m)\u001b[0m\u001b[0;34m\u001b[0m\u001b[0;34m\u001b[0m\u001b[0m\n\u001b[0m\u001b[1;32m   1443\u001b[0m \u001b[0;34m\u001b[0m\u001b[0m\n\u001b[1;32m   1444\u001b[0m         \u001b[0mbound\u001b[0m \u001b[0;34m=\u001b[0m \u001b[0mnew_sig\u001b[0m\u001b[0;34m.\u001b[0m\u001b[0mbind\u001b[0m\u001b[0;34m(\u001b[0m\u001b[0max\u001b[0m\u001b[0;34m,\u001b[0m \u001b[0;34m*\u001b[0m\u001b[0margs\u001b[0m\u001b[0;34m,\u001b[0m \u001b[0;34m**\u001b[0m\u001b[0mkwargs\u001b[0m\u001b[0;34m)\u001b[0m\u001b[0;34m\u001b[0m\u001b[0;34m\u001b[0m\u001b[0m\n",
            "\u001b[0;32m/usr/local/lib/python3.10/dist-packages/matplotlib/axes/_axes.py\u001b[0m in \u001b[0;36mbar\u001b[0;34m(self, x, height, width, bottom, align, **kwargs)\u001b[0m\n\u001b[1;32m   2415\u001b[0m                 \u001b[0myerr\u001b[0m \u001b[0;34m=\u001b[0m \u001b[0mself\u001b[0m\u001b[0;34m.\u001b[0m\u001b[0m_convert_dx\u001b[0m\u001b[0;34m(\u001b[0m\u001b[0myerr\u001b[0m\u001b[0;34m,\u001b[0m \u001b[0my0\u001b[0m\u001b[0;34m,\u001b[0m \u001b[0my\u001b[0m\u001b[0;34m,\u001b[0m \u001b[0mself\u001b[0m\u001b[0;34m.\u001b[0m\u001b[0mconvert_yunits\u001b[0m\u001b[0;34m)\u001b[0m\u001b[0;34m\u001b[0m\u001b[0;34m\u001b[0m\u001b[0m\n\u001b[1;32m   2416\u001b[0m \u001b[0;34m\u001b[0m\u001b[0m\n\u001b[0;32m-> 2417\u001b[0;31m         x, height, width, y, linewidth, hatch = np.broadcast_arrays(\n\u001b[0m\u001b[1;32m   2418\u001b[0m             \u001b[0;31m# Make args iterable too.\u001b[0m\u001b[0;34m\u001b[0m\u001b[0;34m\u001b[0m\u001b[0m\n\u001b[1;32m   2419\u001b[0m             np.atleast_1d(x), height, width, y, linewidth, hatch)\n",
            "\u001b[0;32m/usr/local/lib/python3.10/dist-packages/numpy/core/overrides.py\u001b[0m in \u001b[0;36mbroadcast_arrays\u001b[0;34m(*args, **kwargs)\u001b[0m\n",
            "\u001b[0;32m/usr/local/lib/python3.10/dist-packages/numpy/lib/stride_tricks.py\u001b[0m in \u001b[0;36mbroadcast_arrays\u001b[0;34m(subok, *args)\u001b[0m\n\u001b[1;32m    538\u001b[0m     \u001b[0margs\u001b[0m \u001b[0;34m=\u001b[0m \u001b[0;34m[\u001b[0m\u001b[0mnp\u001b[0m\u001b[0;34m.\u001b[0m\u001b[0marray\u001b[0m\u001b[0;34m(\u001b[0m\u001b[0m_m\u001b[0m\u001b[0;34m,\u001b[0m \u001b[0mcopy\u001b[0m\u001b[0;34m=\u001b[0m\u001b[0;32mFalse\u001b[0m\u001b[0;34m,\u001b[0m \u001b[0msubok\u001b[0m\u001b[0;34m=\u001b[0m\u001b[0msubok\u001b[0m\u001b[0;34m)\u001b[0m \u001b[0;32mfor\u001b[0m \u001b[0m_m\u001b[0m \u001b[0;32min\u001b[0m \u001b[0margs\u001b[0m\u001b[0;34m]\u001b[0m\u001b[0;34m\u001b[0m\u001b[0;34m\u001b[0m\u001b[0m\n\u001b[1;32m    539\u001b[0m \u001b[0;34m\u001b[0m\u001b[0m\n\u001b[0;32m--> 540\u001b[0;31m     \u001b[0mshape\u001b[0m \u001b[0;34m=\u001b[0m \u001b[0m_broadcast_shape\u001b[0m\u001b[0;34m(\u001b[0m\u001b[0;34m*\u001b[0m\u001b[0margs\u001b[0m\u001b[0;34m)\u001b[0m\u001b[0;34m\u001b[0m\u001b[0;34m\u001b[0m\u001b[0m\n\u001b[0m\u001b[1;32m    541\u001b[0m \u001b[0;34m\u001b[0m\u001b[0m\n\u001b[1;32m    542\u001b[0m     \u001b[0;32mif\u001b[0m \u001b[0mall\u001b[0m\u001b[0;34m(\u001b[0m\u001b[0marray\u001b[0m\u001b[0;34m.\u001b[0m\u001b[0mshape\u001b[0m \u001b[0;34m==\u001b[0m \u001b[0mshape\u001b[0m \u001b[0;32mfor\u001b[0m \u001b[0marray\u001b[0m \u001b[0;32min\u001b[0m \u001b[0margs\u001b[0m\u001b[0;34m)\u001b[0m\u001b[0;34m:\u001b[0m\u001b[0;34m\u001b[0m\u001b[0;34m\u001b[0m\u001b[0m\n",
            "\u001b[0;32m/usr/local/lib/python3.10/dist-packages/numpy/lib/stride_tricks.py\u001b[0m in \u001b[0;36m_broadcast_shape\u001b[0;34m(*args)\u001b[0m\n\u001b[1;32m    420\u001b[0m     \u001b[0;31m# use the old-iterator because np.nditer does not handle size 0 arrays\u001b[0m\u001b[0;34m\u001b[0m\u001b[0;34m\u001b[0m\u001b[0m\n\u001b[1;32m    421\u001b[0m     \u001b[0;31m# consistently\u001b[0m\u001b[0;34m\u001b[0m\u001b[0;34m\u001b[0m\u001b[0m\n\u001b[0;32m--> 422\u001b[0;31m     \u001b[0mb\u001b[0m \u001b[0;34m=\u001b[0m \u001b[0mnp\u001b[0m\u001b[0;34m.\u001b[0m\u001b[0mbroadcast\u001b[0m\u001b[0;34m(\u001b[0m\u001b[0;34m*\u001b[0m\u001b[0margs\u001b[0m\u001b[0;34m[\u001b[0m\u001b[0;34m:\u001b[0m\u001b[0;36m32\u001b[0m\u001b[0;34m]\u001b[0m\u001b[0;34m)\u001b[0m\u001b[0;34m\u001b[0m\u001b[0;34m\u001b[0m\u001b[0m\n\u001b[0m\u001b[1;32m    423\u001b[0m     \u001b[0;31m# unfortunately, it cannot handle 32 or more arguments directly\u001b[0m\u001b[0;34m\u001b[0m\u001b[0;34m\u001b[0m\u001b[0m\n\u001b[1;32m    424\u001b[0m     \u001b[0;32mfor\u001b[0m \u001b[0mpos\u001b[0m \u001b[0;32min\u001b[0m \u001b[0mrange\u001b[0m\u001b[0;34m(\u001b[0m\u001b[0;36m32\u001b[0m\u001b[0;34m,\u001b[0m \u001b[0mlen\u001b[0m\u001b[0;34m(\u001b[0m\u001b[0margs\u001b[0m\u001b[0;34m)\u001b[0m\u001b[0;34m,\u001b[0m \u001b[0;36m31\u001b[0m\u001b[0;34m)\u001b[0m\u001b[0;34m:\u001b[0m\u001b[0;34m\u001b[0m\u001b[0;34m\u001b[0m\u001b[0m\n",
            "\u001b[0;31mValueError\u001b[0m: shape mismatch: objects cannot be broadcast to a single shape.  Mismatch is between arg 0 with shape (23,) and arg 1 with shape (13,)."
          ]
        },
        {
          "output_type": "display_data",
          "data": {
            "text/plain": [
              "<Figure size 640x480 with 1 Axes>"
            ],
            "image/png": "[encoded data removed]"
          },
          "metadata": {}
        }
      ]
    },
    {
      "cell_type": "code",
      "source": [],
      "metadata": {
        "id": "R2ZHrwsdPBcI"
      },
      "execution_count": 25,
      "outputs": []
    },
    {
      "cell_type": "code",
      "source": [
        "grafik_ciz(sonuclar)"
      ],
      "metadata": {
        "colab": {
          "base_uri": "https://localhost:8080/",
          "height": 176
        },
        "id": "GPTE0uH-KTSQ",
        "outputId": "f0db4299-9723-4b48-f638-f50b9c0e0ace"
      },
      "execution_count": 20,
      "outputs": [
        {
          "output_type": "error",
          "ename": "NameError",
          "evalue": "ignored",
          "traceback": [
            "\u001b[0;31m---------------------------------------------------------------------------\u001b[0m",
            "\u001b[0;31mNameError\u001b[0m                                 Traceback (most recent call last)",
            "\u001b[0;32m<ipython-input-20-fe149e4d9093>\u001b[0m in \u001b[0;36m<cell line: 1>\u001b[0;34m()\u001b[0m\n\u001b[0;32m----> 1\u001b[0;31m \u001b[0mgrafik_ciz\u001b[0m\u001b[0;34m(\u001b[0m\u001b[0msonuclar\u001b[0m\u001b[0;34m)\u001b[0m\u001b[0;34m\u001b[0m\u001b[0;34m\u001b[0m\u001b[0m\n\u001b[0m",
            "\u001b[0;31mNameError\u001b[0m: name 'sonuclar' is not defined"
          ]
        }
      ]
    },
    {
      "cell_type": "code",
      "source": [],
      "metadata": {
        "id": "QcKMg3mnlYgW"
      },
      "execution_count": null,
      "outputs": []
    }
  ]
}